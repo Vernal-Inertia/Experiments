{
 "cells": [
  {
   "cell_type": "code",
   "execution_count": 1,
   "metadata": {},
   "outputs": [],
   "source": [
    "import numpy as np\n",
    "import pandas as pd\n",
    "import matplotlib.pyplot as plt\n",
    "%matplotlib inline"
   ]
  },
  {
   "cell_type": "code",
   "execution_count": 19,
   "metadata": {},
   "outputs": [
    {
     "name": "stdout",
     "output_type": "stream",
     "text": [
      "False\n",
      "True\n"
     ]
    }
   ],
   "source": [
    "# In a condition we cannot get hold of a NaN value \n",
    "print(np.nan == np.nan)\n",
    "\n",
    "#But we can hold None just like strings [\"missing”, “not available”, “NA”]\n",
    "print(None == None)"
   ]
  },
  {
   "cell_type": "code",
   "execution_count": 20,
   "metadata": {},
   "outputs": [],
   "source": [
    "# creating lists\n",
    "list_with_all_missing = [None, None, np.nan, np.nan]\n",
    "list_with_2_missing   = [1, np.nan, 2, np.nan]\n",
    "\n",
    "# creating series using above lists\n",
    "series_with_all_missing = pd.Series(list_with_all_missing)\n",
    "series_with_2_missing   = pd.Series(list_with_2_missing)"
   ]
  },
  {
   "cell_type": "code",
   "execution_count": 21,
   "metadata": {},
   "outputs": [
    {
     "data": {
      "text/plain": [
       "0   NaN\n",
       "1   NaN\n",
       "2   NaN\n",
       "3   NaN\n",
       "dtype: float64"
      ]
     },
     "execution_count": 21,
     "metadata": {},
     "output_type": "execute_result"
    }
   ],
   "source": [
    "series_with_all_missing + series_with_2_missing"
   ]
  },
  {
   "cell_type": "code",
   "execution_count": 22,
   "metadata": {},
   "outputs": [
    {
     "data": {
      "text/plain": [
       "0   NaN\n",
       "1   NaN\n",
       "2   NaN\n",
       "3   NaN\n",
       "dtype: float64"
      ]
     },
     "execution_count": 22,
     "metadata": {},
     "output_type": "execute_result"
    }
   ],
   "source": [
    "series_with_all_missing / series_with_2_missing"
   ]
  },
  {
   "cell_type": "code",
   "execution_count": 23,
   "metadata": {},
   "outputs": [
    {
     "name": "stdout",
     "output_type": "stream",
     "text": [
      "nan\n",
      "0.0\n"
     ]
    }
   ],
   "source": [
    "# Conflicting outputs\n",
    "print(sum(series_with_all_missing))\n",
    "print(series_with_all_missing.sum())"
   ]
  },
  {
   "cell_type": "code",
   "execution_count": 24,
   "metadata": {},
   "outputs": [
    {
     "name": "stdout",
     "output_type": "stream",
     "text": [
      "nan\n",
      "3.0\n"
     ]
    }
   ],
   "source": [
    "# Conflicting outputs\n",
    "print(sum(series_with_2_missing))\n",
    "print(series_with_2_missing.sum())"
   ]
  },
  {
   "cell_type": "code",
   "execution_count": 25,
   "metadata": {},
   "outputs": [
    {
     "data": {
      "text/html": [
       "<div>\n",
       "<style scoped>\n",
       "    .dataframe tbody tr th:only-of-type {\n",
       "        vertical-align: middle;\n",
       "    }\n",
       "\n",
       "    .dataframe tbody tr th {\n",
       "        vertical-align: top;\n",
       "    }\n",
       "\n",
       "    .dataframe thead th {\n",
       "        text-align: right;\n",
       "    }\n",
       "</style>\n",
       "<table border=\"1\" class=\"dataframe\">\n",
       "  <thead>\n",
       "    <tr style=\"text-align: right;\">\n",
       "      <th></th>\n",
       "      <th>c0</th>\n",
       "      <th>c1</th>\n",
       "      <th>c2</th>\n",
       "      <th>c3</th>\n",
       "    </tr>\n",
       "  </thead>\n",
       "  <tbody>\n",
       "    <tr>\n",
       "      <th>i0</th>\n",
       "      <td>1</td>\n",
       "      <td>2.0</td>\n",
       "      <td>NaN</td>\n",
       "      <td>3</td>\n",
       "    </tr>\n",
       "    <tr>\n",
       "      <th>i1</th>\n",
       "      <td>NaN</td>\n",
       "      <td>NaN</td>\n",
       "      <td>NaN</td>\n",
       "      <td>NaN</td>\n",
       "    </tr>\n",
       "    <tr>\n",
       "      <th>i2</th>\n",
       "      <td>4</td>\n",
       "      <td>5.0</td>\n",
       "      <td>NA</td>\n",
       "      <td>#$%</td>\n",
       "    </tr>\n",
       "    <tr>\n",
       "      <th>i3</th>\n",
       "      <td>6</td>\n",
       "      <td>7.0</td>\n",
       "      <td>NaN</td>\n",
       "      <td>8</td>\n",
       "    </tr>\n",
       "    <tr>\n",
       "      <th>i4</th>\n",
       "      <td>missing</td>\n",
       "      <td>9.0</td>\n",
       "      <td>NaN</td>\n",
       "      <td>10</td>\n",
       "    </tr>\n",
       "    <tr>\n",
       "      <th>i5</th>\n",
       "      <td>11</td>\n",
       "      <td>12.0</td>\n",
       "      <td>NaN</td>\n",
       "      <td>not available</td>\n",
       "    </tr>\n",
       "  </tbody>\n",
       "</table>\n",
       "</div>"
      ],
      "text/plain": [
       "         c0    c1   c2             c3\n",
       "i0        1   2.0  NaN              3\n",
       "i1      NaN   NaN  NaN            NaN\n",
       "i2        4   5.0   NA            #$%\n",
       "i3        6   7.0  NaN              8\n",
       "i4  missing   9.0  NaN             10\n",
       "i5       11  12.0  NaN  not available"
      ]
     },
     "execution_count": 25,
     "metadata": {},
     "output_type": "execute_result"
    }
   ],
   "source": [
    "df = pd.DataFrame(data=[[1, 2, np.nan, 3],\n",
    "                        [np.nan, np.nan, np.nan, np.nan],\n",
    "                        [4, 5,'NA', '#$%'],\n",
    "                        [6, 7, np.nan, 8],\n",
    "                        [\"missing\", 9, np.nan, 10],\n",
    "                        [11, 12, np.nan, \"not available\"]], \n",
    "                  index='i0,i1,i2,i3,i4,i5'.split(','), \n",
    "                  columns='c0,c1,c2,c3'.split(','))\n",
    "\n",
    "df"
   ]
  },
  {
   "cell_type": "code",
   "execution_count": 26,
   "metadata": {},
   "outputs": [
    {
     "data": {
      "text/plain": [
       "i0    False\n",
       "i1     True\n",
       "i2    False\n",
       "i3    False\n",
       "i4    False\n",
       "i5    False\n",
       "Name: c3, dtype: bool"
      ]
     },
     "execution_count": 26,
     "metadata": {},
     "output_type": "execute_result"
    }
   ],
   "source": [
    "df['c3'].isnull()"
   ]
  },
  {
   "cell_type": "code",
   "execution_count": 27,
   "metadata": {},
   "outputs": [
    {
     "data": {
      "text/plain": [
       "Index(['c0', 'c1', 'c2', 'c3'], dtype='object')"
      ]
     },
     "execution_count": 27,
     "metadata": {},
     "output_type": "execute_result"
    }
   ],
   "source": [
    "df.to_csv('Df_with_NaNs', index=False)"
   ]
  },
  {
   "cell_type": "code",
   "execution_count": 57,
   "metadata": {},
   "outputs": [
    {
     "data": {
      "text/html": [
       "<div>\n",
       "<style scoped>\n",
       "    .dataframe tbody tr th:only-of-type {\n",
       "        vertical-align: middle;\n",
       "    }\n",
       "\n",
       "    .dataframe tbody tr th {\n",
       "        vertical-align: top;\n",
       "    }\n",
       "\n",
       "    .dataframe thead th {\n",
       "        text-align: right;\n",
       "    }\n",
       "</style>\n",
       "<table border=\"1\" class=\"dataframe\">\n",
       "  <thead>\n",
       "    <tr style=\"text-align: right;\">\n",
       "      <th></th>\n",
       "      <th>c0</th>\n",
       "      <th>c1</th>\n",
       "      <th>c2</th>\n",
       "      <th>c3</th>\n",
       "    </tr>\n",
       "    <tr>\n",
       "      <th>index</th>\n",
       "      <th></th>\n",
       "      <th></th>\n",
       "      <th></th>\n",
       "      <th></th>\n",
       "    </tr>\n",
       "  </thead>\n",
       "  <tbody>\n",
       "    <tr>\n",
       "      <th>i0</th>\n",
       "      <td>1.0</td>\n",
       "      <td>2.0</td>\n",
       "      <td>NaN</td>\n",
       "      <td>3</td>\n",
       "    </tr>\n",
       "    <tr>\n",
       "      <th>i1</th>\n",
       "      <td>NaN</td>\n",
       "      <td>NaN</td>\n",
       "      <td>NaN</td>\n",
       "      <td>NaN</td>\n",
       "    </tr>\n",
       "    <tr>\n",
       "      <th>i2</th>\n",
       "      <td>4.0</td>\n",
       "      <td>5.0</td>\n",
       "      <td>NaN</td>\n",
       "      <td>#$%</td>\n",
       "    </tr>\n",
       "    <tr>\n",
       "      <th>i3</th>\n",
       "      <td>6.0</td>\n",
       "      <td>7.0</td>\n",
       "      <td>NaN</td>\n",
       "      <td>8</td>\n",
       "    </tr>\n",
       "    <tr>\n",
       "      <th>i4</th>\n",
       "      <td>NaN</td>\n",
       "      <td>9.0</td>\n",
       "      <td>NaN</td>\n",
       "      <td>10</td>\n",
       "    </tr>\n",
       "    <tr>\n",
       "      <th>i5</th>\n",
       "      <td>11.0</td>\n",
       "      <td>12.0</td>\n",
       "      <td>NaN</td>\n",
       "      <td>NaN</td>\n",
       "    </tr>\n",
       "  </tbody>\n",
       "</table>\n",
       "</div>"
      ],
      "text/plain": [
       "         c0    c1  c2   c3\n",
       "index                     \n",
       "i0      1.0   2.0 NaN    3\n",
       "i1      NaN   NaN NaN  NaN\n",
       "i2      4.0   5.0 NaN  #$%\n",
       "i3      6.0   7.0 NaN    8\n",
       "i4      NaN   9.0 NaN   10\n",
       "i5     11.0  12.0 NaN  NaN"
      ]
     },
     "execution_count": 57,
     "metadata": {},
     "output_type": "execute_result"
    }
   ],
   "source": [
    "new_df = pd.read_csv('Df_with_NaNs', na_values= ['missing', 'not available', 'NA'])\n",
    "# we should avoid adding the '#$%' value here as a value might be inappropriate\n",
    "# in one column but not in another.\n",
    "# eg: 'Male' entered as a value in Age column instead of Gender. \n",
    "\n",
    "# Setting new index with the same name\n",
    "new_df['index'] = 'i0,i1,i2,i3,i4,i5'.split(',')\n",
    "new_df.set_index('index', inplace=True)\n",
    "\n",
    "#DataFrame is ready !\n",
    "new_df"
   ]
  },
  {
   "cell_type": "code",
   "execution_count": 58,
   "metadata": {},
   "outputs": [
    {
     "data": {
      "text/html": [
       "<div>\n",
       "<style scoped>\n",
       "    .dataframe tbody tr th:only-of-type {\n",
       "        vertical-align: middle;\n",
       "    }\n",
       "\n",
       "    .dataframe tbody tr th {\n",
       "        vertical-align: top;\n",
       "    }\n",
       "\n",
       "    .dataframe thead th {\n",
       "        text-align: right;\n",
       "    }\n",
       "</style>\n",
       "<table border=\"1\" class=\"dataframe\">\n",
       "  <thead>\n",
       "    <tr style=\"text-align: right;\">\n",
       "      <th></th>\n",
       "      <th>c0</th>\n",
       "      <th>c1</th>\n",
       "      <th>c2</th>\n",
       "      <th>c3</th>\n",
       "    </tr>\n",
       "    <tr>\n",
       "      <th>index</th>\n",
       "      <th></th>\n",
       "      <th></th>\n",
       "      <th></th>\n",
       "      <th></th>\n",
       "    </tr>\n",
       "  </thead>\n",
       "  <tbody>\n",
       "  </tbody>\n",
       "</table>\n",
       "</div>"
      ],
      "text/plain": [
       "Empty DataFrame\n",
       "Columns: [c0, c1, c2, c3]\n",
       "Index: []"
      ]
     },
     "execution_count": 58,
     "metadata": {},
     "output_type": "execute_result"
    }
   ],
   "source": [
    "new_df.dropna()\n",
    "# Oops!"
   ]
  },
  {
   "cell_type": "code",
   "execution_count": 59,
   "metadata": {},
   "outputs": [
    {
     "name": "stdout",
     "output_type": "stream",
     "text": [
      "Data types:\n",
      " c0    float64\n",
      "c1    float64\n",
      "c2    float64\n",
      "c3     object\n",
      "dtype: object\n",
      "\n",
      " Data types(after):\n",
      " c0    float64\n",
      "c1    float64\n",
      "c2    float64\n",
      "c3    float64\n",
      "dtype: object\n"
     ]
    }
   ],
   "source": [
    "print('Data types:\\n', new_df.dtypes)\n",
    "\n",
    "# (Although such an assignment is not correct, but the purpose here is to\n",
    "# demonstrate use of mean/median/mode academically so let's continue with it)\n",
    "new_df.loc['i2', 'c3'] = 10\n",
    "\n",
    "new_df['c3'] = new_df['c3'].astype('float64') # if skipped a warning would be thrown \n",
    "                                              # as '#$%' was a string.\n",
    "    \n",
    "print('\\n Data types(after):\\n', new_df.dtypes)"
   ]
  },
  {
   "cell_type": "code",
   "execution_count": 61,
   "metadata": {},
   "outputs": [
    {
     "name": "stdout",
     "output_type": "stream",
     "text": [
      "mean_c0 =  5.5\n",
      "median_c1 =  7.0\n",
      "mode_c3[0] =  10.0\n"
     ]
    }
   ],
   "source": [
    "mean_c0 = new_df['c0'].mean() # returns a single float\n",
    "median_c1 = new_df['c1'].median()  # returns a single float\n",
    "mode_c3 = new_df['c3'].mode()  # returns a series\n",
    "\n",
    "print('mean_c0 = ', mean_c0)\n",
    "print('median_c1 = ', median_c1)\n",
    "print('mode_c3[0] = ', mode_c3[0]) # 0th element: the most repeated term"
   ]
  },
  {
   "cell_type": "code",
   "execution_count": null,
   "metadata": {},
   "outputs": [],
   "source": []
  },
  {
   "cell_type": "code",
   "execution_count": 62,
   "metadata": {},
   "outputs": [
    {
     "data": {
      "text/html": [
       "<div>\n",
       "<style scoped>\n",
       "    .dataframe tbody tr th:only-of-type {\n",
       "        vertical-align: middle;\n",
       "    }\n",
       "\n",
       "    .dataframe tbody tr th {\n",
       "        vertical-align: top;\n",
       "    }\n",
       "\n",
       "    .dataframe thead th {\n",
       "        text-align: right;\n",
       "    }\n",
       "</style>\n",
       "<table border=\"1\" class=\"dataframe\">\n",
       "  <thead>\n",
       "    <tr style=\"text-align: right;\">\n",
       "      <th></th>\n",
       "      <th>c0</th>\n",
       "      <th>c1</th>\n",
       "      <th>c2</th>\n",
       "      <th>c3</th>\n",
       "    </tr>\n",
       "    <tr>\n",
       "      <th>index</th>\n",
       "      <th></th>\n",
       "      <th></th>\n",
       "      <th></th>\n",
       "      <th></th>\n",
       "    </tr>\n",
       "  </thead>\n",
       "  <tbody>\n",
       "    <tr>\n",
       "      <th>i0</th>\n",
       "      <td>1.0</td>\n",
       "      <td>2.0</td>\n",
       "      <td>NaN</td>\n",
       "      <td>3.0</td>\n",
       "    </tr>\n",
       "    <tr>\n",
       "      <th>i1</th>\n",
       "      <td>5.5</td>\n",
       "      <td>7.0</td>\n",
       "      <td>NaN</td>\n",
       "      <td>10.0</td>\n",
       "    </tr>\n",
       "    <tr>\n",
       "      <th>i2</th>\n",
       "      <td>4.0</td>\n",
       "      <td>5.0</td>\n",
       "      <td>NaN</td>\n",
       "      <td>10.0</td>\n",
       "    </tr>\n",
       "    <tr>\n",
       "      <th>i3</th>\n",
       "      <td>6.0</td>\n",
       "      <td>7.0</td>\n",
       "      <td>NaN</td>\n",
       "      <td>8.0</td>\n",
       "    </tr>\n",
       "    <tr>\n",
       "      <th>i4</th>\n",
       "      <td>5.5</td>\n",
       "      <td>9.0</td>\n",
       "      <td>NaN</td>\n",
       "      <td>10.0</td>\n",
       "    </tr>\n",
       "    <tr>\n",
       "      <th>i5</th>\n",
       "      <td>11.0</td>\n",
       "      <td>12.0</td>\n",
       "      <td>NaN</td>\n",
       "      <td>10.0</td>\n",
       "    </tr>\n",
       "  </tbody>\n",
       "</table>\n",
       "</div>"
      ],
      "text/plain": [
       "         c0    c1  c2    c3\n",
       "index                      \n",
       "i0      1.0   2.0 NaN   3.0\n",
       "i1      5.5   7.0 NaN  10.0\n",
       "i2      4.0   5.0 NaN  10.0\n",
       "i3      6.0   7.0 NaN   8.0\n",
       "i4      5.5   9.0 NaN  10.0\n",
       "i5     11.0  12.0 NaN  10.0"
      ]
     },
     "execution_count": 62,
     "metadata": {},
     "output_type": "execute_result"
    }
   ],
   "source": [
    "# Usually .fillna() method is used to replace NaNs\n",
    "new_df['c0'].fillna(mean_c0, inplace=True)\n",
    "\n",
    "# We can do the same by .replace() method\n",
    "new_df['c1'].replace(to_replace= np.nan, value= median_c1, inplace=True)\n",
    "\n",
    "# Also by vectorised indexing\n",
    "null_indexes_in_c3 = new_df.index[new_df['c3'].isnull()]\n",
    "new_df.loc[null_indexes_in_c3, 'c3'] = mode_c3[0]\n",
    "\n",
    "new_df"
   ]
  },
  {
   "cell_type": "code",
   "execution_count": 63,
   "metadata": {
    "scrolled": true
   },
   "outputs": [
    {
     "data": {
      "text/html": [
       "<div>\n",
       "<style scoped>\n",
       "    .dataframe tbody tr th:only-of-type {\n",
       "        vertical-align: middle;\n",
       "    }\n",
       "\n",
       "    .dataframe tbody tr th {\n",
       "        vertical-align: top;\n",
       "    }\n",
       "\n",
       "    .dataframe thead th {\n",
       "        text-align: right;\n",
       "    }\n",
       "</style>\n",
       "<table border=\"1\" class=\"dataframe\">\n",
       "  <thead>\n",
       "    <tr style=\"text-align: right;\">\n",
       "      <th></th>\n",
       "      <th>c0</th>\n",
       "      <th>c1</th>\n",
       "      <th>c3</th>\n",
       "    </tr>\n",
       "    <tr>\n",
       "      <th>index</th>\n",
       "      <th></th>\n",
       "      <th></th>\n",
       "      <th></th>\n",
       "    </tr>\n",
       "  </thead>\n",
       "  <tbody>\n",
       "    <tr>\n",
       "      <th>i0</th>\n",
       "      <td>1.0</td>\n",
       "      <td>2.0</td>\n",
       "      <td>3.0</td>\n",
       "    </tr>\n",
       "    <tr>\n",
       "      <th>i1</th>\n",
       "      <td>5.5</td>\n",
       "      <td>7.0</td>\n",
       "      <td>10.0</td>\n",
       "    </tr>\n",
       "    <tr>\n",
       "      <th>i2</th>\n",
       "      <td>4.0</td>\n",
       "      <td>5.0</td>\n",
       "      <td>10.0</td>\n",
       "    </tr>\n",
       "    <tr>\n",
       "      <th>i3</th>\n",
       "      <td>6.0</td>\n",
       "      <td>7.0</td>\n",
       "      <td>8.0</td>\n",
       "    </tr>\n",
       "    <tr>\n",
       "      <th>i4</th>\n",
       "      <td>5.5</td>\n",
       "      <td>9.0</td>\n",
       "      <td>10.0</td>\n",
       "    </tr>\n",
       "    <tr>\n",
       "      <th>i5</th>\n",
       "      <td>11.0</td>\n",
       "      <td>12.0</td>\n",
       "      <td>10.0</td>\n",
       "    </tr>\n",
       "  </tbody>\n",
       "</table>\n",
       "</div>"
      ],
      "text/plain": [
       "         c0    c1    c3\n",
       "index                  \n",
       "i0      1.0   2.0   3.0\n",
       "i1      5.5   7.0  10.0\n",
       "i2      4.0   5.0  10.0\n",
       "i3      6.0   7.0   8.0\n",
       "i4      5.5   9.0  10.0\n",
       "i5     11.0  12.0  10.0"
      ]
     },
     "execution_count": 63,
     "metadata": {},
     "output_type": "execute_result"
    }
   ],
   "source": [
    "new_df.drop(columns=['c2'], inplace=True)\n",
    "\n",
    "new_df"
   ]
  },
  {
   "cell_type": "code",
   "execution_count": 24,
   "metadata": {},
   "outputs": [
    {
     "data": {
      "image/png": "[encoded data removed]",
      "text/plain": [
       "<matplotlib.figure.Figure at 0x7f81587fc748>"
      ]
     },
     "metadata": {},
     "output_type": "display_data"
    }
   ],
   "source": [
    "original               = [1, 1, 1, 1, 2, 2, 2, 2, 3, 3]\n",
    "replaced_by_mean       = [1, 1, 1, 1, 2, 2, 2, 2, 3, 3,  1.8, 1.8, 1.8, 1.8, 1.8]\n",
    "replaced_by_proportion = [1, 1, 1, 1, 2, 2, 2, 2, 3, 3,  1, 1, 2, 2, 3]\n",
    "\n",
    "plt.figure(figsize=(10,6))\n",
    "plt.subplot(3, 1, 1)\n",
    "plt.boxplot(original, showmeans=True, vert=False)\n",
    "plt.title('original', color='green')\n",
    "plt.subplot(3, 1, 2)\n",
    "plt.boxplot(replaced_by_mean, showmeans=True, vert=False)\n",
    "plt.title('replaced_by_mean', color='blue')\n",
    "plt.subplot(3, 1, 3)\n",
    "plt.boxplot(replaced_by_proportion, showmeans=True, vert=False)\n",
    "plt.title('replaced_by_proportion', color='magenta')\n",
    "plt.tight_layout()\n",
    "plt.show()"
   ]
  },
  {
   "cell_type": "code",
   "execution_count": 23,
   "metadata": {},
   "outputs": [
    {
     "name": "stdout",
     "output_type": "stream",
     "text": [
      "1.8\n",
      "1.8000000000000003\n",
      "1.8\n"
     ]
    }
   ],
   "source": [
    "print(sum(original)/len(original))\n",
    "print(sum(replaced_by_mean)/len(replaced_by_mean))\n",
    "print(sum(replaced_by_proportion)/len(replaced_by_proportion))"
   ]
  },
  {
   "cell_type": "code",
   "execution_count": 21,
   "metadata": {},
   "outputs": [
    {
     "data": {
      "text/plain": [
       "<matplotlib.lines.Line2D at 0x7fc9994152b0>"
      ]
     },
     "execution_count": 21,
     "metadata": {},
     "output_type": "execute_result"
    }
   ],
   "source": [
    "# \"valueCounts\" and \"nanCounts\" are both dictionaries containing a pd.Series with \n",
    "# keys as column names. They are initialized as follows:\n",
    "# \n",
    "# for column_Name in df.columns.values:\n",
    "#  {\n",
    "#   valueCounts = {key: column_Name, value: df['column_Name'].value_counts()}\n",
    "#   nanCounts   = {key: column_Name, value: df['column_Name'].isnull().sum()}\n",
    "#  }\n",
    "\n",
    "# IMPLEMENTATION: Assume name of a column is \"XYZ\"\n",
    "proportion = get_proportion('XYZ') #say we have values like [1.99, 3.01, 1]\n",
    "print(proportion)\n",
    "# Since indices are always integers, manual approximation to nearest integer is required\n",
    "# as the list \"proportion\" will  contain decimal values. (We can write a function too) \n",
    "proportion = [2, 3, 1] # sum(proportion) = nanCounts['XYZ'] = 6\n",
    "fill_NaNs(proportion, 'XYZ')\n",
    "\n",
    "\n",
    "def get_proportion(col):\n",
    "    return(np.array(valueCounts[col].values) / valueCounts[col].sum() * nanCounts[col])\n",
    "\n",
    "def fill_NaNs(proportion, col):\n",
    "    # Get the list of all indexes with missing values, say[89,5,8,64,32,17]\n",
    "    nan_indexes = df[df[col].isnull()].index.tolist() \n",
    "    # len(nanCounts['XYZ']) = len(nan_indexes) = sum(proportion) = 6\n",
    "        \n",
    "    for x in range(len(proportion)):\n",
    "        # assume [64,17] are randomly picked in first iteration, because proportion[0]=2\n",
    "        random_subset = random.sample(population = nan_indexes, k = proportion[x])\n",
    "                \n",
    "        # assigning values to [64, 17] for column 'XYZ'\n",
    "        df.loc[random_subset, col] = valueCounts[col].keys()[x]\n",
    "                \n",
    "        # updating the indexes list by removing [64, 17]. Now only [89,5,8,32] remain\n",
    "        nan_indexes = list(set(nan_indexes) - set(random_subset))"
   ]
  },
  {
   "cell_type": "code",
   "execution_count": 2,
   "metadata": {},
   "outputs": [
    {
     "data": {
      "text/plain": [
       "35"
      ]
     },
     "execution_count": 2,
     "metadata": {},
     "output_type": "execute_result"
    }
   ],
   "source": []
  }
 ],
 "metadata": {
  "kernelspec": {
   "display_name": "Python 3",
   "language": "python",
   "name": "python3"
  },
  "language_info": {
   "codemirror_mode": {
    "name": "ipython",
    "version": 3
   },
   "file_extension": ".py",
   "mimetype": "text/x-python",
   "name": "python",
   "nbconvert_exporter": "python",
   "pygments_lexer": "ipython3",
   "version": "3.6.7"
  }
 },
 "nbformat": 4,
 "nbformat_minor": 2
}
